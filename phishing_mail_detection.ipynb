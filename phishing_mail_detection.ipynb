{
 "cells": [
  {
   "cell_type": "code",
   "execution_count": 2,
   "metadata": {},
   "outputs": [
    {
     "name": "stderr",
     "output_type": "stream",
     "text": [
      "[nltk_data] Downloading package stopwords to\n",
      "[nltk_data]     C:\\Users\\ASUS\\AppData\\Roaming\\nltk_data...\n",
      "[nltk_data]   Package stopwords is already up-to-date!\n",
      "[nltk_data] Downloading package punkt to\n",
      "[nltk_data]     C:\\Users\\ASUS\\AppData\\Roaming\\nltk_data...\n",
      "[nltk_data]   Package punkt is already up-to-date!\n"
     ]
    },
    {
     "name": "stdout",
     "output_type": "stream",
     "text": [
      "Requirement already satisfied: nltk in c:\\users\\asus\\anaconda3\\lib\\site-packages (3.5)"
     ]
    },
    {
     "name": "stderr",
     "output_type": "stream",
     "text": [
      "WARNING: You are using pip version 20.2.3; however, version 20.3.3 is available.\n",
      "You should consider upgrading via the 'c:\\users\\asus\\anaconda3\\python.exe -m pip install --upgrade pip' command.\n"
     ]
    },
    {
     "name": "stdout",
     "output_type": "stream",
     "text": [
      "\n",
      "Requirement already satisfied: sklearn in c:\\users\\asus\\anaconda3\\lib\\site-packages (0.0)\n",
      "Requirement already satisfied: pandas in c:\\users\\asus\\anaconda3\\lib\\site-packages (1.1.1)\n",
      "Requirement already satisfied: matplotlib in c:\\users\\asus\\anaconda3\\lib\\site-packages (3.3.1)\n",
      "Requirement already satisfied: seaborn in c:\\users\\asus\\anaconda3\\lib\\site-packages (0.10.1)\n",
      "Requirement already satisfied: joblib in c:\\users\\asus\\anaconda3\\lib\\site-packages (from nltk) (0.16.0)\n",
      "Requirement already satisfied: click in c:\\users\\asus\\anaconda3\\lib\\site-packages (from nltk) (7.1.2)\n",
      "Requirement already satisfied: regex in c:\\users\\asus\\anaconda3\\lib\\site-packages (from nltk) (2020.7.14)\n",
      "Requirement already satisfied: tqdm in c:\\users\\asus\\anaconda3\\lib\\site-packages (from nltk) (4.48.2)\n",
      "Requirement already satisfied: scikit-learn in c:\\users\\asus\\anaconda3\\lib\\site-packages (from sklearn) (0.23.2)\n",
      "Requirement already satisfied: python-dateutil>=2.7.3 in c:\\users\\asus\\anaconda3\\lib\\site-packages (from pandas) (2.8.1)\n",
      "Requirement already satisfied: pytz>=2017.2 in c:\\users\\asus\\anaconda3\\lib\\site-packages (from pandas) (2020.1)\n",
      "Requirement already satisfied: numpy>=1.15.4 in c:\\users\\asus\\anaconda3\\lib\\site-packages (from pandas) (1.19.1)\n",
      "Requirement already satisfied: pyparsing!=2.0.4,!=2.1.2,!=2.1.6,>=2.0.3 in c:\\users\\asus\\anaconda3\\lib\\site-packages (from matplotlib) (2.4.7)\n",
      "Requirement already satisfied: pillow>=6.2.0 in c:\\users\\asus\\anaconda3\\lib\\site-packages (from matplotlib) (7.2.0)\n",
      "Requirement already satisfied: kiwisolver>=1.0.1 in c:\\users\\asus\\anaconda3\\lib\\site-packages (from matplotlib) (1.2.0)\n",
      "Requirement already satisfied: certifi>=2020.06.20 in c:\\users\\asus\\anaconda3\\lib\\site-packages (from matplotlib) (2020.6.20)\n",
      "Requirement already satisfied: cycler>=0.10 in c:\\users\\asus\\anaconda3\\lib\\site-packages (from matplotlib) (0.10.0)\n",
      "Requirement already satisfied: scipy>=1.0.1 in c:\\users\\asus\\anaconda3\\lib\\site-packages (from seaborn) (1.5.0)\n",
      "Requirement already satisfied: threadpoolctl>=2.0.0 in c:\\users\\asus\\anaconda3\\lib\\site-packages (from scikit-learn->sklearn) (2.1.0)\n",
      "Requirement already satisfied: six>=1.5 in c:\\users\\asus\\anaconda3\\lib\\site-packages (from python-dateutil>=2.7.3->pandas) (1.15.0)\n"
     ]
    }
   ],
   "source": [
    "import re, os, math, string, json\n",
    "import pandas as pd\n",
    "import numpy as np\n",
    "import matplotlib.pyplot as plt\n",
    "import random\n",
    "import re\n",
    "%matplotlib inline\n",
    "# Import Natural Language ToolKit library and download dictionaries\n",
    "import nltk\n",
    "nltk.download('stopwords')\n",
    "nltk.download('punkt')\n",
    "# Import Scikit-learn helper functions\n",
    "from sklearn.model_selection import train_test_split\n",
    "from sklearn.feature_extraction.text import TfidfVectorizer, CountVectorizer\n",
    "# Import Scikit-learn models\n",
    "from sklearn.linear_model import LogisticRegression\n",
    "from sklearn.naive_bayes import MultinomialNB\n",
    "# Import Scikit-learn metric functions\n",
    "from sklearn.metrics import confusion_matrix, classification_report\n",
    "import seaborn as sns\n",
    "# Install dependencies\n",
    "! pip install nltk sklearn pandas matplotlib seaborn"
   ]
  },
  {
   "cell_type": "code",
   "execution_count": 3,
   "metadata": {},
   "outputs": [
    {
     "name": "stdout",
     "output_type": "stream",
     "text": [
      "\n",
      "Re: Apple Sauced...againAt 1:16 AM -0400 on 10/3/02, Gary Lawrence Murphy wrote:\n",
      ">   \"The first question I ask myself when something doesn't seem to be\n",
      ">   beautiful is why do I think it's not beautiful. And very shortly you\n",
      ">   discover that there is no reason.\" -- John Cage\n",
      "\n",
      "\"When I'm working on a problem, I never think about beauty. I think only\n",
      "how to solve the problem. But when I have finished, if the solution is not\n",
      "beautiful, I know it is wrong.\"  -- R. Buckminster Fuller\n",
      "\n",
      "\"Simplicity is the highest goal, achievable when you have overcome all\n",
      "difficulties.\" -- Frederic Chopin\n",
      "\n",
      "\"Externalities are the last refuge of the dirigistes.\" -- Friedrich Hayek\n",
      "-- \n",
      "-----------------\n",
      "R. A. Hettinga \n",
      "The Internet Bearer Underwriting Corporation \n",
      "44 Farquhar Street, Boston, MA 02131 USA\n",
      "\"The stoical scheme of supplying our wants by lopping off our\n",
      "desires is like cutting off our feet when we want shoes.\"\n",
      " -- Jonathan Swift\n",
      "\n",
      "\n",
      " - Keywords from the test email -\n",
      "\n",
      "['appl', 'sauc', 'againat', '1:16', '0400', '10/3/02', 'gari', 'lawrenc', 'murphi', 'wrote', 'first', 'question', 'ask', 'someth', 'doe', \"n't\", 'seem', 'beauti', 'whi', 'think', 'beauti', 'veri', 'shortli', 'discov', 'reason', 'john', 'cage', 'work', 'problem', 'never', 'think', 'beauti', 'think', 'onli', 'solv', 'problem', 'finish', 'solut', 'beauti', 'know', 'wrong', 'r', 'buckminst', 'fuller', 'simplic', 'highest', 'goal', 'achiev', 'overcom', 'difficulti', 'freder', 'chopin', 'extern', 'last', 'refug', 'dirigist', 'friedrich', 'hayek', 'r', 'hettinga', 'internet', 'bearer', 'underwrit', 'corpor', '44', 'farquhar', 'street', 'boston', '02131', 'usa', 'stoical', 'scheme', 'suppli', 'want', 'lop', 'desir', 'like', 'cut', 'feet', 'want', 'shoe', 'jonathan', 'swift']\n"
     ]
    }
   ],
   "source": [
    "test_email = \"\"\"\n",
    "Re: Apple Sauced...againAt 1:16 AM -0400 on 10/3/02, Gary Lawrence Murphy wrote:\n",
    ">   \"The first question I ask myself when something doesn't seem to be\n",
    ">   beautiful is why do I think it's not beautiful. And very shortly you\n",
    ">   discover that there is no reason.\" -- John Cage\n",
    "\n",
    "\"When I'm working on a problem, I never think about beauty. I think only\n",
    "how to solve the problem. But when I have finished, if the solution is not\n",
    "beautiful, I know it is wrong.\"  -- R. Buckminster Fuller\n",
    "\n",
    "\"Simplicity is the highest goal, achievable when you have overcome all\n",
    "difficulties.\" -- Frederic Chopin\n",
    "\n",
    "\"Externalities are the last refuge of the dirigistes.\" -- Friedrich Hayek\n",
    "-- \n",
    "-----------------\n",
    "R. A. Hettinga \n",
    "The Internet Bearer Underwriting Corporation \n",
    "44 Farquhar Street, Boston, MA 02131 USA\n",
    "\"The stoical scheme of supplying our wants by lopping off our\n",
    "desires is like cutting off our feet when we want shoes.\"\n",
    " -- Jonathan Swift\n",
    "\"\"\"\n",
    "def keywords(text):\n",
    "  \"\"\"Separates feature words from the raw data\"\"\"\n",
    "  # Retrieve a list of punctuation characters, a list of stopwords, and a stemmer function\n",
    "  punctuation = list(string.punctuation)\n",
    "  stop_word = nltk.corpus.stopwords.words('english')\n",
    "  stemmer = nltk.stem.PorterStemmer()\n",
    "  # Set email body to lowercase, separate words and strip out punctuation\n",
    "  keyword = nltk.word_tokenize(text.lower())\n",
    "  keyword = [i.strip(''.join(punctuation)) \n",
    "            for i in keyword \n",
    "            if i not in punctuation]\n",
    "  # User Porter Stemmer on each keyword\n",
    "  keyword = [stemmer.stem(i)\n",
    "            for i in keyword]\n",
    "  return [w for w in keyword if w not in stop_word and w != \"\"]\n",
    "print(test_email)\n",
    "\n",
    "# Tokenize test email\n",
    "print(\"\\n - Keywords from the test email -\\n\")\n",
    "keywords_mail = keywords(test_email)\n",
    "print(keywords_mail)"
   ]
  },
  {
   "cell_type": "code",
   "execution_count": 4,
   "metadata": {},
   "outputs": [],
   "source": [
    "ham_data = len(os.listdir(\"ham\"))\n",
    "spam_data = len(os.listdir(\"spam\"))\n",
    "test_data = len(os.listdir(\"test\"))"
   ]
  },
  {
   "cell_type": "code",
   "execution_count": 5,
   "metadata": {},
   "outputs": [
    {
     "name": "stdout",
     "output_type": "stream",
     "text": [
      "The number of ham_data 6031\n",
      "The number of spam_data 2602\n",
      "The number of test_data 866\n"
     ]
    }
   ],
   "source": [
    "print(\"The number of ham_data\",ham_data)\n",
    "print(\"The number of spam_data\",spam_data)\n",
    "print(\"The number of test_data\",test_data)"
   ]
  },
  {
   "cell_type": "code",
   "execution_count": 6,
   "metadata": {},
   "outputs": [
    {
     "name": "stdout",
     "output_type": "stream",
     "text": [
      "All the words in the email:/n\n",
      "appl\n",
      "sauc\n",
      "againat\n",
      "1:16\n",
      "0400\n",
      "10/3/02\n",
      "gari\n",
      "lawrenc\n",
      "murphi\n",
      "wrote\n",
      "first\n",
      "question\n",
      "ask\n",
      "someth\n",
      "doe\n",
      "n't\n",
      "seem\n",
      "beauti\n",
      "whi\n",
      "think\n",
      "veri\n",
      "shortli\n",
      "discov\n",
      "reason\n",
      "john\n",
      "cage\n",
      "work\n",
      "problem\n",
      "never\n",
      "onli\n",
      "solv\n",
      "finish\n",
      "solut\n",
      "know\n",
      "wrong\n",
      "r\n",
      "buckminst\n",
      "fuller\n",
      "simplic\n",
      "highest\n",
      "goal\n",
      "achiev\n",
      "overcom\n",
      "difficulti\n",
      "freder\n",
      "chopin\n",
      "extern\n",
      "last\n",
      "refug\n",
      "dirigist\n",
      "friedrich\n",
      "hayek\n",
      "hettinga\n",
      "internet\n",
      "bearer\n",
      "underwrit\n",
      "corpor\n",
      "44\n",
      "farquhar\n",
      "street\n",
      "boston\n",
      "02131\n",
      "usa\n",
      "stoical\n",
      "scheme\n",
      "suppli\n",
      "want\n",
      "lop\n",
      "desir\n",
      "like\n",
      "cut\n",
      "feet\n",
      "shoe\n",
      "jonathan\n",
      "swift\n",
      "Total number of word in the email:  75\n"
     ]
    }
   ],
   "source": [
    "def read_mail(email):\n",
    "  words = keywords(email)\n",
    "  # Build table\n",
    "  table = dict.fromkeys(words, 0)\n",
    "  for word in words:\n",
    "    table[word] += 1\n",
    "  return table\n",
    "p=0\n",
    "print(\"All the words in the email:/n\")\n",
    "test_email_words = read_mail(test_email)\n",
    "for i in test_email_words.keys():\n",
    "  print(i)\n",
    "  p+=1\n",
    "print(\"Total number of word in the email: \",p)\n"
   ]
  },
  {
   "cell_type": "code",
   "execution_count": 7,
   "metadata": {},
   "outputs": [],
   "source": [
    "#initialized our tables:\n",
    "unique_words_table = set()\n",
    "spam_table_len = 0\n",
    "ham_table_len = 0\n",
    "spam_table = dict()\n",
    "ham_table = dict()\n"
   ]
  },
  {
   "cell_type": "code",
   "execution_count": 8,
   "metadata": {},
   "outputs": [
    {
     "name": "stdout",
     "output_type": "stream",
     "text": [
      "Spam and ham learner is defined\n"
     ]
    }
   ],
   "source": [
    "#define spam and ham learning:\n",
    "def Spam(email):\n",
    "  # Include global variables\n",
    "  global spam_table\n",
    "  global spam_table_len\n",
    "  global unique_words_table\n",
    "  table = read_mail(email)\n",
    "  word_count=len(table)\n",
    "  unique_words_table.update(table)\n",
    "\n",
    "  # Add word count to TOTAL number of Spam words\n",
    "  spam_table_len += word_count\n",
    "\n",
    "  # Add word counts to Spam table\n",
    "  for word in table:\n",
    "    spam_table.setdefault(word, 0)\n",
    "    spam_table[word] += table[word]\n",
    "def Ham(email):\n",
    "  global ham_table\n",
    "  global ham_table_len\n",
    "  global unique_words_table\n",
    "  table= read_mail(email)\n",
    "  word_count= len(table)\n",
    "  unique_words_table.update(table)\n",
    "  ham_table_len += word_count\n",
    "  for word in table:\n",
    "    ham_table.setdefault(word, 0)\n",
    "    ham_table[word] += table[word]\n",
    "print(\"Spam and ham learner is defined\")"
   ]
  },
  {
   "cell_type": "code",
   "execution_count": 9,
   "metadata": {},
   "outputs": [],
   "source": [
    "#Load data\n",
    "spam_count = 0\n",
    "ham_count = 0\n",
    "ham=os.listdir(\"ham\")\n",
    "spam=os.listdir(\"spam\")"
   ]
  },
  {
   "cell_type": "code",
   "execution_count": 14,
   "metadata": {},
   "outputs": [
    {
     "name": "stdout",
     "output_type": "stream",
     "text": [
      "- Training Ham -\n",
      "- Training Spam -\n"
     ]
    }
   ],
   "source": [
    "#train our ham and spam data\n",
    "print(\"- Training Ham -\")\n",
    "for each in os.listdir('ham'):\n",
    "  with open('ham/' + each, 'r',encoding='ISO-8859–1') as h:\n",
    "    Ham(h.read())\n",
    "  ham_count += 1\n",
    "print(\"- Training Spam -\")\n",
    "for each in os.listdir('spam'):\n",
    "  with open('spam/' + each, 'r',encoding='ISO-8859–1') as s:\n",
    "    Spam(s.read())\n",
    "  spam_count += 1"
   ]
  },
  {
   "cell_type": "code",
   "execution_count": 15,
   "metadata": {},
   "outputs": [
    {
     "name": "stdout",
     "output_type": "stream",
     "text": [
      "First 20 element of spam table:\n",
      "\n",
      "5592 : subject\n",
      "3 : dobmeo\n",
      "66 : hgh\n",
      "648 : energi\n",
      "384 : level\n",
      "3939 : ha\n",
      "87 : gone\n",
      "3 : stukm\n",
      "234 : introduc\n",
      "426 : doctor\n",
      "66 : formul\n",
      "387 : human\n",
      "378 : growth\n",
      "57 : hormon\n",
      "2268 : also\n",
      "1737 : call\n",
      "546 : refer\n",
      "723 : medic\n",
      "216 : scienc\n",
      "186 : master\n",
      "First 20 element of ham table:\n",
      "\n",
      "21984 : subject\n",
      "84 : christma\n",
      "162 : tree\n",
      "45 : farm\n",
      "336 : pictur\n",
      "33 : vastar\n",
      "1068 : resourc\n",
      "1242 : inc\n",
      "1857 : gari\n",
      "3690 : product\n",
      "846 : high\n",
      "132 : island\n",
      "162 : larger\n",
      "453 : block\n",
      "9015 : 1\n",
      "6534 : 2\n",
      "114 : commenc\n",
      "390 : saturday\n",
      "5742 : 00\n",
      "1833 : p\n"
     ]
    }
   ],
   "source": [
    "number=0\n",
    "print(\"First 20 element of spam table:\\n\")\n",
    "for i in list(spam_table):\n",
    "  print(spam_table[i],\":\",i)\n",
    "  number+=1\n",
    "  if number>=20:\n",
    "    break\n",
    "ham_number=0\n",
    "print(\"First 20 element of ham table:\\n\")\n",
    "for i in list(ham_table):\n",
    "  print(ham_table[i],\":\",i)\n",
    "  ham_number+=1\n",
    "  if ham_number>=20:\n",
    "    break"
   ]
  },
  {
   "cell_type": "code",
   "execution_count": 16,
   "metadata": {},
   "outputs": [
    {
     "name": "stdout",
     "output_type": "stream",
     "text": [
      "\n",
      "### Prediction Function Defined ###\n",
      "\n"
     ]
    }
   ],
   "source": [
    "def predict(email, alpha=1, print_probs=False):\n",
    "  keyword = keywords(email)\n",
    "  N = len(unique_words_table)\n",
    "  spam_priority = spam_count / (spam_count + ham_count)\n",
    "  ham_priority  =  ham_count / (spam_count + ham_count)\n",
    "  spam_denom = spam_table_len + N*alpha\n",
    "  ham_denom = ham_table_len + N*alpha\n",
    "  spam_num = 1\n",
    "  ham_num = 1\n",
    "  for word in keyword:  \n",
    "    # Set to 0 incase word doesn't exist\n",
    "    spam_table.setdefault(word, 0)\n",
    "    ham_table.setdefault(word, 0)\n",
    "    spam_num *= spam_table[word] + alpha\n",
    "    ham_num *=  ham_table[word] + alpha\n",
    "    \n",
    "  spam_probability = math.log(spam_priority) + (math.log(spam_num) - math.log(spam_denom ** len(keyword)))\n",
    "  ham_probability  = math.log(ham_priority) + (math.log( ham_num) - math.log( ham_denom ** len(keyword)))\n",
    "  \n",
    "  if print_probs == True:\n",
    "    print(\"Spam Probability: {}\".format(spam_probability))\n",
    "    print(\"Ham Probability:  {}\".format(ham_probability))\n",
    "  \n",
    "  \n",
    "  # Make classification decision\n",
    "  if (spam_probability > ham_probability):\n",
    "    return \"spam\"\n",
    "  else:\n",
    "    return \"ham\"\n",
    "  \n",
    "\n",
    "print(\"\\n### Prediction Function Defined ###\\n\")"
   ]
  },
  {
   "cell_type": "code",
   "execution_count": 17,
   "metadata": {},
   "outputs": [
    {
     "name": "stdout",
     "output_type": "stream",
     "text": [
      "Spam Probability: -780.0953869342982\n",
      "Ham Probability:  -740.3500574546669\n",
      "This email is classified as:  ham\n",
      "\n",
      "\n",
      "\n",
      "Re: Apple Sauced...againAt 1:16 AM -0400 on 10/3/02, Gary Lawrence Murphy wrote:\n",
      ">   \"The first question I ask myself when something doesn't seem to be\n",
      ">   beautiful is why do I think it's not beautiful. And very shortly you\n",
      ">   discover that there is no reason.\" -- John Cage\n",
      "\n",
      "\"When I'm working on a problem, I never think about beauty. I think only\n",
      "how to solve the problem. But when I have finished, if the solution is not\n",
      "beautiful, I know it is wrong.\"  -- R. Buckminster Fuller\n",
      "\n",
      "\"Simplicity is the highest goal, achievable when you have overcome all\n",
      "difficulties.\" -- Frederic Chopin\n",
      "\n",
      "\"Externalities are the last refuge of the dirigistes.\" -- Friedrich Hayek\n",
      "-- \n",
      "-----------------\n",
      "R. A. Hettinga \n",
      "The Internet Bearer Underwriting Corporation \n",
      "44 Farquhar Street, Boston, MA 02131 USA\n",
      "\"The stoical scheme of supplying our wants by lopping off our\n",
      "desires is like cutting off our feet when we want shoes.\"\n",
      " -- Jonathan Swift\n",
      "\n"
     ]
    }
   ],
   "source": [
    "# Predict our test email\n",
    "test_email_prediction = predict(test_email, print_probs=True)\n",
    "print(\"This email is classified as: \",test_email_prediction)\n",
    "print(\"\\n\")\n",
    "print(test_email)"
   ]
  },
  {
   "cell_type": "code",
   "execution_count": 19,
   "metadata": {},
   "outputs": [
    {
     "name": "stdout",
     "output_type": "stream",
     "text": [
      "Spam Probability: -487.64708079550024\n",
      "Ham Probability:  -506.61776660899284\n",
      "This email is classified as:  spam\n",
      "\n",
      "\n",
      "Your latest issue is available NOW! If you do not want issue notifications, click here to unsubscribe.\n",
      "logo\n",
      "Hi GEORGE,\n",
      "\n",
      "Your latest digital issue is available NOW!\n",
      "\n",
      "Enjoy all the latest from InStyle right on your phone, computer or tablet!\n",
      "\n",
      "View your library now.\n",
      "\n",
      "READ NOW\n",
      "Your digital issue is delivered by emagazines.com. To unsubscribe, go here. Do not reply to this email. For more information, review our Privacy Policy and customer care options visit Customer Support.\n",
      "\n",
      "Copyright © 2017 - 2019 eMagazines. All Rights Reserved. 230 W Huron St., Ste 500, Chicago, IL 60654\n",
      "\n"
     ]
    }
   ],
   "source": [
    "a_spam_email=\"\"\"Your latest issue is available NOW! If you do not want issue notifications, click here to unsubscribe.\n",
    "logo\n",
    "Hi GEORGE,\n",
    "\n",
    "Your latest digital issue is available NOW!\n",
    "\n",
    "Enjoy all the latest from InStyle right on your phone, computer or tablet!\n",
    "\n",
    "View your library now.\n",
    "\n",
    "READ NOW\n",
    "Your digital issue is delivered by emagazines.com. To unsubscribe, go here. Do not reply to this email. For more information, review our Privacy Policy and customer care options visit Customer Support.\n",
    "\n",
    "Copyright © 2017 - 2019 eMagazines. All Rights Reserved. 230 W Huron St., Ste 500, Chicago, IL 60654\n",
    "\"\"\"\n",
    "test_email_prediction2 = predict(a_spam_email, print_probs=True)\n",
    "print(\"This email is classified as: \",test_email_prediction2)\n",
    "print(\"\\n\")\n",
    "print(a_spam_email)"
   ]
  },
  {
   "cell_type": "code",
   "execution_count": 20,
   "metadata": {},
   "outputs": [],
   "source": [
    "def confusion_matrix(cmatrix, score):\n",
    "  # Generate confusion matrix heatmap\n",
    "  plt.figure(figsize=(6,6))\n",
    "  sns.heatmap(cmatrix, \n",
    "              annot=True, \n",
    "              fmt=\"d\", \n",
    "              linewidths=.6, \n",
    "              square = True, \n",
    "              cmap = 'Greens', \n",
    "              annot_kws={\"size\": 18}, \n",
    "              xticklabels=['ham email', 'spam email'], \n",
    "              yticklabels=['ham email', 'spam email'])\n",
    "\n",
    "  plt.xticks(rotation='horizontal', fontsize=17)\n",
    "  plt.yticks(rotation='horizontal', fontsize=17)\n",
    "\n",
    "  title = 'Accuracy Score: {0:.4f}'.format(score)\n",
    "  plt.title(title, size = 25);\n",
    "  plt.show()"
   ]
  },
  {
   "cell_type": "code",
   "execution_count": 21,
   "metadata": {},
   "outputs": [],
   "source": [
    "def accuracy_model(alpha=1):\n",
    "  # Initialize confusion matrix (true label vs predicted label)\n",
    "  spam_spam = 0\n",
    "  spam_ham  = 0\n",
    "  ham_ham   = 0\n",
    "  ham_spam  = 0\n",
    "  \n",
    "  \n",
    "  # Predict testing emails\n",
    "  print(\"Predicting Testing Emails..............\\n..............\")\n",
    "  for filename in os.listdir('test'):\n",
    "      with open(\"test/\" + filename, 'r',encoding='ISO-8859–1') as f:\n",
    "          prediction = predict(f.read())\n",
    "          true_label = re.split(\"txt\\.\", filename)[1]\n",
    "          \n",
    "          # Craft confusion matrix counts\n",
    "          if (true_label == 'ham'):\n",
    "            if (prediction == 'ham'):\n",
    "              ham_ham += 1\n",
    "            else:\n",
    "              ham_spam += 1\n",
    "          elif (true_label == 'spam'):\n",
    "            if (prediction == 'spam'):\n",
    "              spam_spam += 1\n",
    "            else:\n",
    "              spam_ham += 1\n",
    "              \n",
    "              \n",
    "  # Calculate statistics\n",
    "  cmatrix = [[spam_spam, spam_ham], \n",
    "             [ham_spam, ham_ham]]\n",
    "  correctly_classified = ham_ham + spam_spam\n",
    "  total_predictions   = ham_ham + spam_spam + ham_spam + spam_ham\n",
    "  accuracy = float(correctly_classified) / total_predictions\n",
    "\n",
    "  print(\"All test Emails: \", total_predictions)\n",
    "  print(\"Correctly classified: \", correctly_classified)\n",
    "  confusion_matrix(cmatrix, accuracy)"
   ]
  },
  {
   "cell_type": "code",
   "execution_count": 22,
   "metadata": {},
   "outputs": [
    {
     "name": "stdout",
     "output_type": "stream",
     "text": [
      "Predicting Testing Emails..............\n",
      "..............\n",
      "All test Emails:  866\n",
      "Correctly classified:  824\n"
     ]
    },
    {
     "data": {
      "image/png": "[encoded data removed]",
      "text/plain": [
       "<Figure size 432x432 with 2 Axes>"
      ]
     },
     "metadata": {
      "needs_background": "light"
     },
     "output_type": "display_data"
    }
   ],
   "source": [
    "accuracy_model()"
   ]
  }
 ],
 "metadata": {
  "kernelspec": {
   "display_name": "Python 3",
   "language": "python",
   "name": "python3"
  },
  "language_info": {
   "codemirror_mode": {
    "name": "ipython",
    "version": 3
   },
   "file_extension": ".py",
   "mimetype": "text/x-python",
   "name": "python",
   "nbconvert_exporter": "python",
   "pygments_lexer": "ipython3",
   "version": "3.8.5"
  }
 },
 "nbformat": 4,
 "nbformat_minor": 4
}
